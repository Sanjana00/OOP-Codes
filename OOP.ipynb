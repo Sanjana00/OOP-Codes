{
 "cells": [
  {
   "cell_type": "markdown",
   "metadata": {},
   "source": [
    "### Odometer\n",
    "\n",
    "An n-odometer shows digits from 1 to n only (n < 10). The odometer reading is valid iff the reading is in ascending order and has no repeating numbers."
   ]
  },
  {
   "cell_type": "code",
   "execution_count": 33,
   "metadata": {},
   "outputs": [],
   "source": [
    "from itertools import combinations\n",
    "\n",
    "DIGITS = '123456789'\n",
    "\n",
    "class Odometer:\n",
    "    def __init__(self, n, position = 0):\n",
    "        self.size = n\n",
    "        self.start = int(DIGITS[:n])\n",
    "        self.end = int(DIGITS[-n:])\n",
    "        self.position = position\n",
    "        self.readings = [int(''.join(x)) for x in combinations(DIGITS, n)]\n",
    "        self.read_nos = len(self.readings)\n",
    "        \n",
    "    def __DEBUG__(self):\n",
    "        print(f\"SIZE = {self.size}\")\n",
    "        print(f\"{self.start} << reading >> {self.end}\")\n",
    "        print(f\"CURRENT = {self.position}\")\n",
    "        print(f\"READING = {self.readings[self.position]}\")\n",
    "        print(f\"No. of readings = {self.read_nos}\")\n",
    "    \n",
    "    def next_k_reads(self, k = 5):\n",
    "        return [self.next_reading() for _ in range(k)]\n",
    "    \n",
    "    def prev_k_reads(self, k = 5):\n",
    "        return [self.prev_reading() for _ in range(k)]\n",
    "    \n",
    "    def next_reading(self, step = 1):\n",
    "        self.position = (self.position + step) % self.read_nos\n",
    "        return self.readings[self.position]\n",
    "    \n",
    "    def prev_reading(self, step = 1):\n",
    "        self.position = (self.position - step) % self.read_nos\n",
    "        return self.readings[self.position]\n",
    "    \n",
    "    def diff(self, odo):\n",
    "        if self.size != odo.size:\n",
    "            return -1\n",
    "        return abs(self.position - odo.position)"
   ]
  },
  {
   "cell_type": "code",
   "execution_count": 34,
   "metadata": {},
   "outputs": [
    {
     "data": {
      "text/plain": [
       "(84, [124, 125, 126, 127, 128], [127, 126, 125, 124, 123])"
      ]
     },
     "execution_count": 34,
     "metadata": {},
     "output_type": "execute_result"
    }
   ],
   "source": [
    "o = Odometer(3)\n",
    "o.read_nos, o.next_k_reads(), o.prev_k_reads()"
   ]
  },
  {
   "cell_type": "code",
   "execution_count": 37,
   "metadata": {},
   "outputs": [
    {
     "name": "stdout",
     "output_type": "stream",
     "text": [
      "SIZE = 3\n",
      "123 << reading >> 789\n",
      "CURRENT = 0\n",
      "READING = 123\n",
      "No. of readings = 84\n",
      "SIZE = 3\n",
      "123 << reading >> 789\n",
      "CURRENT = 5\n",
      "READING = 128\n",
      "No. of readings = 84\n"
     ]
    },
    {
     "data": {
      "text/plain": [
       "5"
      ]
     },
     "execution_count": 37,
     "metadata": {},
     "output_type": "execute_result"
    }
   ],
   "source": [
    "o.__DEBUG__()\n",
    "p.__DEBUG__()\n",
    "p = Odometer(3, 5)\n",
    "o.diff(p)"
   ]
  }
 ],
 "metadata": {
  "kernelspec": {
   "display_name": "Python 3",
   "language": "python",
   "name": "python3"
  },
  "language_info": {
   "codemirror_mode": {
    "name": "ipython",
    "version": 3
   },
   "file_extension": ".py",
   "mimetype": "text/x-python",
   "name": "python",
   "nbconvert_exporter": "python",
   "pygments_lexer": "ipython3",
   "version": "3.7.4"
  }
 },
 "nbformat": 4,
 "nbformat_minor": 2
}
